{
 "cells": [
  {
   "cell_type": "code",
   "execution_count": 17,
   "metadata": {},
   "outputs": [],
   "source": [
    "import numpy as np\n",
    "import pandas as pd\n",
    "\n",
    "# Define the mapping from transcription to Syriac glyphs\n",
    "transcription_to_syriac = {\n",
    "    '>': 'ܐ',\n",
    "    'B': 'ܒ',\n",
    "    'G': 'ܓ',\n",
    "    'D': 'ܕ',\n",
    "    'H': 'ܗ',\n",
    "    'W': 'ܘ',\n",
    "    'Z': 'ܙ',\n",
    "    'X': 'ܚ',\n",
    "    'V': 'ܛ',\n",
    "    'J': 'ܝ',\n",
    "    'K': 'ܟ',\n",
    "    'L': 'ܠ',\n",
    "    'M': 'ܡ',\n",
    "    'N': 'ܢ',\n",
    "    'S': 'ܣ',\n",
    "    '<': 'ܥ',\n",
    "    'P': 'ܦ',\n",
    "    'Y': 'ܨ',\n",
    "    'Q': 'ܩ',\n",
    "    'R': 'ܪ',\n",
    "    'C': 'ܫ',\n",
    "    'T': 'ܬ',\n",
    "    '^' : '',\n",
    "    '\"': '',\n",
    "\n",
    "}\n",
    "\n",
    "syriac_to_transcription = {\n",
    "    'ܐ': 'A',  # Aleph\n",
    "    'ܒ': 'B',  # Beth\n",
    "    'ܓ': 'G',  # Gamal\n",
    "    'ܕ': 'D',  # Dalath\n",
    "    'ܗ': 'H',  # He\n",
    "    'ܘ': 'W',  # Waw\n",
    "    'ܙ': 'Z',  # Zain\n",
    "    'ܚ': 'X',  # Heth\n",
    "    'ܛ': 'V',  # Teth\n",
    "    'ܝ': 'J',  # Yodh\n",
    "    'ܟ': 'K',  # Kaph\n",
    "    'ܠ': 'L',  # Lamadh\n",
    "    'ܡ': 'M',  # Mim\n",
    "    'ܢ': 'N',  # Nun\n",
    "    'ܣ': 'S',  # Semkath\n",
    "    'ܥ': 'E',  # E\n",
    "    'ܦ': 'P',  # Pe\n",
    "    'ܨ': 'Y',  # Sadhe\n",
    "    'ܩ': 'Q',  # Qoph\n",
    "    'ܪ': 'R',  # Rish\n",
    "    'ܫ': 'C',  # Shin\n",
    "    'ܬ': 'T',  # Taw\n",
    "}\n",
    "\n",
    "\n",
    "def transcribe_to_syriac(transcription):\n",
    "    \"\"\"\n",
    "    Transcribe a given Latin transcription into Syriac glyphs.\n",
    "\n",
    "    Args:\n",
    "    transcription (str): A string with Latin transcription.\n",
    "\n",
    "    Returns:\n",
    "    str: A string with Syriac glyphs.\n",
    "    \"\"\"\n",
    "    syriac_text = ''.join(transcription_to_syriac.get(char, char) for char in transcription)\n",
    "    return syriac_text\n",
    "\n",
    "def transcribe_to_latin(syriac_text):\n",
    "    \"\"\"\n",
    "    Transcribe a given Syriac text into Latin transcription.\n",
    "\n",
    "    Args:\n",
    "    syriac_text (str): A string with Syriac glyphs.\n",
    "\n",
    "    Returns:\n",
    "    str: A string with Latin transcription.\n",
    "    \"\"\"\n",
    "    latin_transcription = ''.join(syriac_to_transcription.get(char, char) for char in syriac_text)\n",
    "    return latin_transcription"
   ]
  },
  {
   "cell_type": "code",
   "execution_count": 19,
   "metadata": {},
   "outputs": [
    {
     "data": {
      "text/plain": [
       "'W.MLKA. DWJD. S.AB. W.EL. BC.NJA. W.M.KS.JN. HWW. LH. BL.BW.CA. W.LA. C.XN. W.AMRW. LH. EBDWHJ. HA.'"
      ]
     },
     "execution_count": 19,
     "metadata": {},
     "output_type": "execute_result"
    }
   ],
   "source": [
    "transcribe_to_latin('ܘ.ܡܠܟܐ. ܕܘܝܕ. ܣ.ܐܒ. ܘ.ܥܠ. ܒܫ.ܢܝܐ. ܘ.ܡ.ܟܣ.ܝܢ. ܗܘܘ. ܠܗ. ܒܠ.ܒܘ.ܫܐ. ܘ.ܠܐ. ܫ.ܚܢ. ܘ.ܐܡܪܘ. ܠܗ. ܥܒܕܘܗܝ. ܗܐ.')"
   ]
  }
 ],
 "metadata": {
  "kernelspec": {
   "display_name": "base",
   "language": "python",
   "name": "python3"
  },
  "language_info": {
   "codemirror_mode": {
    "name": "ipython",
    "version": 3
   },
   "file_extension": ".py",
   "mimetype": "text/x-python",
   "name": "python",
   "nbconvert_exporter": "python",
   "pygments_lexer": "ipython3",
   "version": "3.11.8"
  }
 },
 "nbformat": 4,
 "nbformat_minor": 2
}
